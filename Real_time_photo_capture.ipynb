{
 "cells": [
  {
   "cell_type": "code",
   "execution_count": null,
   "id": "332e035e",
   "metadata": {},
   "outputs": [],
   "source": [
    "import cv2\n",
    "name = 'name'                                                                   #replace it with your name.\n",
    "\n",
    "cam = cv2.VideoCapture(1)                                                       #0 for system camera and 1/2/3.. for external webcam. \n",
    "\n",
    "cv2.namedWindow(\"Press Space to take a Photo\", cv2.WINDOW_NORMAL)               #This function creates a window with the specified name.\n",
    "cv2.resizeWindow(\"Press Space to take a Photo\", 500, 300)                       #This function resizes the window with the specified name to have a width of 500 pixels and a height of 300 pixels.\n",
    "\n",
    "img_counter = 0\n",
    "\n",
    "while True:                                                                     #Infinite loop\n",
    "    ret, frame = cam.read()                                                     #capture frame\n",
    "    if not ret:\n",
    "        print(\"failed to grab frame\")\n",
    "        break\n",
    "    cv2.imshow(\"press space to take a photo\", frame)                            #Display frame\n",
    "\n",
    "    k = cv2.waitKey(1)                                                          #Wait for key press\n",
    "    if k%256 == 27:                                                             #check for escape key pressed?\n",
    "        # ESC pressed\n",
    "        print(\"Escape press hit, closing...\")\n",
    "        break\n",
    "    elif k%256 == 9:                                                            #check for tab key pressed?\n",
    "        # TAB pressed\n",
    "        print(\"Capturing photo:-\")\n",
    "        #img_name = r\"C:\\Users\\Desktop\\ABC\\image_{}.jpg\".format(img_counter)\n",
    "        #cv2.imwrite(img_name, frame)                                         \n",
    "        #cv2.imwrite(img_name, frame)                                               #Can uncomment it to store it on the specified folder.\n",
    "        print(\"{} written!\".format(img_name))\n",
    "        img_counter += 1\n",
    "\n",
    "cam.release()                                                                  #Release Webcam and close window\n",
    "\n",
    "cv2.destroyAllWindows()"
   ]
  }
 ],
 "metadata": {
  "kernelspec": {
   "display_name": "Python 3 (ipykernel)",
   "language": "python",
   "name": "python3"
  },
  "language_info": {
   "codemirror_mode": {
    "name": "ipython",
    "version": 3
   },
   "file_extension": ".py",
   "mimetype": "text/x-python",
   "name": "python",
   "nbconvert_exporter": "python",
   "pygments_lexer": "ipython3",
   "version": "3.9.13"
  }
 },
 "nbformat": 4,
 "nbformat_minor": 5
}
